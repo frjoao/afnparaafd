{
 "cells": [
  {
   "cell_type": "code",
   "metadata": {},
   "source": [
    "#AAI FTC -- JOÃO VITOR FRANCO RESENDE e EDUARDO MARUM"
   ]
  },
  {
   "cell_type": "markdown",
   "metadata": {},
   "source": [
    "Importando a famosa pandas para trabalhar melhor com o dicionário (irei trabalhar o afn como um dF após)\n",
    "Importando a LITERAL_EVAL por ser uma melhor maneira de converter string em um dicionário\n",
    "\n"
   ]
  },
  {
   "cell_type": "code",
   "execution_count": null,
   "metadata": {},
   "outputs": [],
   "source": [
    "import pandas as pd\n",
    "from ast import literal_eval\n"
   ]
  },
  {
   "attachments": {
    "afn2.png": {
     "image/png": "[encoded data removed]"
    }
   },
   "cell_type": "markdown",
   "metadata": {},
   "source": [
    "Recebendo os primeiros INPUT's do usuário ou o arquivo externo (Quantidade de estados e letras do alfabeto)\n",
    "\n",
    "Como exemplo, o arquivo anexado está usando o seguinte AFN : \n",
    "\n",
    "\n",
    "<img src='./afn2.png'></img>"
   ]
  },
  {
   "cell_type": "code",
   "execution_count": null,
   "metadata": {},
   "outputs": [],
   "source": [
    "# Escolher como será feito a escolha da entrada do AFN\n",
    "\n",
    "\n",
    "\n",
    "escolha = int(input(\"Escolha como será feita a entrada inicial do AFN a ser convertido: (1 - Usando o arquivo test, 2 - 'Desenho' a partir de input )\"))\n"
   ]
  },
  {
   "cell_type": "markdown",
   "metadata": {},
   "source": [
    "# Recebendo o arquivo usando o modelo de dois dicionários já aninhados \n Boa Prática para o INPUT, utilizar apenas um caracter por nome do estado"
   ]
  },
  {
   "cell_type": "code",
   "execution_count": null,
   "metadata": {},
   "outputs": [],
   "source": [
    "if escolha == 1:\n",
    "    with open(\"test.txt\", 'r') as input_file:\n",
    "        for row in input_file:\n",
    "            afn = literal_eval(row) # Uso do literal só para ser uma maneira mais correta de converter a string para DICT\n",
    "    n = len(afn)"
   ]
  },
  {
   "cell_type": "markdown",
   "metadata": {},
   "source": [
    "# Recebendo o caminho que cada estado irá assumir apartir da entrada"
   ]
  },
  {
   "cell_type": "code",
   "execution_count": null,
   "metadata": {},
   "outputs": [],
   "source": [
    "if escolha == 2:\n",
    "    #Usuário poder \"desenhar\" o AFN via input's\n",
    "    afn = {}                                 \n",
    "    n = int(input(\"Quantidade de estados : \"))            #Qntde de estados\n",
    "    t = int(input(\"Quantidade de letras alfabeto, ex A,B (2), A,B,C (3) : \"))       #Qntde de letras do alfabeto, alterar para estática\n",
    "    # --------------------------------------------------------------\n",
    "    for i in range(n):  \n",
    "        estado = input(\"Nome do estado : \")            #Nome do estado\n",
    "        afn[estado] = {}                           #Criando o dicionario vazio\n",
    "        for j in range(t):\n",
    "            caminho = input(\"caminho : \")               #Input do caminho ex : a ou b{a,b} 0 ou 1 {0,1}\n",
    "            print(\"Entre com o resultado do estado {} alcançado após consumir {} : \".format(estado,caminho))\n",
    "            estado_alcancado = [x for x in input().split()]  #estados alcancados com o caminho \n",
    "            afn[estado][caminho] = estado_alcancado     #Atribuindo um estado final a chave (estado) pelo caminho"
   ]
  },
  {
   "cell_type": "code",
   "execution_count": null,
   "metadata": {},
   "outputs": [],
   "source": [
    "# Imprimindo o dicionário montado para o AFN antes de trabalhar"
   ]
  },
  {
   "cell_type": "code",
   "execution_count": null,
   "metadata": {},
   "outputs": [],
   "source": [
    "print(\"\\nAFN : \")\n",
    "print(afn)                                    "
   ]
  },
  {
   "cell_type": "code",
   "execution_count": null,
   "metadata": {},
   "outputs": [],
   "source": [
    "afn_table = pd.DataFrame(afn) #Convertendo o dict para um dataFrame usando o pandas\n",
    "print(afn_table.transpose()) #Imprimindo o transpose do pandas"
   ]
  },
  {
   "cell_type": "code",
   "execution_count": null,
   "metadata": {},
   "outputs": [],
   "source": [
    "# Recebendo o input do ESTADO FINAL do AFN"
   ]
  },
  {
   "cell_type": "code",
   "execution_count": null,
   "metadata": {},
   "outputs": [],
   "source": [
    "afn_final_estado = [x for x in input().split()]      # Entre com os estados finais do AFN"
   ]
  },
  {
   "cell_type": "code",
   "execution_count": null,
   "metadata": {},
   "outputs": [],
   "source": [
    "# Estrutura inicial\n",
    "\n",
    "lista_novos_estados = []                          #Salva os novos estados do AFD\n",
    "afd = {}                                      #estrutura do AFD que iremos utilizar sendo dict/table\n",
    "keys_list = list(list(afn.keys())[0])                  #Contem todos os estados do AFN + os estados a serem criados para AFD\n",
    "lista_caminhos = list(afn[keys_list[0]].keys())    # Preenche com o alfabeto do afn\n",
    "\n",
    "if escolha == 1:\n",
    "    t = len(list(afn[keys_list[0]].keys())) # Se a entrada do afn for o arquivo, criaremos a var para calcular o range depois\n"
   ]
  },
  {
   "cell_type": "code",
   "execution_count": null,
   "metadata": {},
   "outputs": [],
   "source": [
    "# Computando a primeira linha do AFD(estado)\n",
    "\n",
    "afd[keys_list[0]] = {}                              #Criando um dicionario aninhado com o anterior\n",
    "for y in range(t):\n",
    "    var = \"\".join(afn[keys_list[0]][lista_caminhos[y]])   #Uma nova string para cada novo estado do AFD\n",
    "    afd[keys_list[0]][lista_caminhos[y]] = var            #Atribuindo o estado na tabela\n",
    "    if var not in keys_list:                         #Se for um novo estado entao iremos dar os append\n",
    "        lista_novos_estados.append(var)          \n",
    "        keys_list.append(var)                    \n",
    "         \n"
   ]
  },
  {
   "cell_type": "code",
   "execution_count": null,
   "metadata": {},
   "outputs": [],
   "source": [
    "# Computando todas as outras linhas do AFD\n",
    "\n",
    "while len(lista_novos_estados) != 0:                    \n",
    "    afd[lista_novos_estados[0]] = {}                     #Examinando a primeira linha da AFD\n",
    "    for _ in range(len(lista_novos_estados[0])):\n",
    "        for i in range(len(lista_caminhos)):\n",
    "            temp = []                                #Lista temporaria, talvez não é necessária mas ficou melhor a leitura\n",
    "            for j in range(len(lista_novos_estados[0])):\n",
    "                temp += afn[lista_novos_estados[0][j]][lista_caminhos[i]]  #União de todos os estados\n",
    "            s = \"\"\n",
    "            s = s.join(temp)                         #Uma nova string para cada novo estado do AFD\n",
    "            if s not in keys_list:                   #se o estado for novo\n",
    "                lista_novos_estados.append(s)           \n",
    "                keys_list.append(s)                  #Append para todas as keys_list\n",
    "            afd[lista_novos_estados[0]][lista_caminhos[i]] = s   #Atribuindo o novo estado do AFD\n",
    "        \n",
    "    lista_novos_estados.remove(lista_novos_estados[0])       #Removendo o primeiro elemento da lista (header)\n",
    "\n"
   ]
  },
  {
   "cell_type": "code",
   "execution_count": null,
   "metadata": {},
   "outputs": [],
   "source": [
    "#Resultado final\n",
    "\n",
    "print(\"\\nAFD :- \\n\")    \n",
    "print(afd)                                           #AFD\n",
    "print(\"\\nImprimindo a tabela do AFD:- \") # (Funciona pfvr)\n",
    "afd_table = pd.DataFrame(afd)\n",
    "print(afd_table.transpose()) #transpose da tabela para exibição\n",
    "\n",
    "afd_estados_list = list(afd.keys())\n",
    "afd_final_estados = []\n",
    "for x in afd_estados_list:\n",
    "    for i in x:\n",
    "        if i in afn_final_estado:\n",
    "            afd_final_estados.append(x)\n",
    "            break\n",
    "        \n",
    "print(\"\\nOs estados finais do AFD serão :  : \",afd_final_estados)       #Imprimindo os estados finais do AFD\n"
   ]
  },
  {
   "attachments": {
    "afn1.png": {
     "image/png": "[encoded data removed]"
    }
   },
   "cell_type": "markdown",
   "metadata": {},
   "source": [
    "Como exemplo se usado o arquivo anexado resultou-se no seguinte AFD \n",
    "\n",
    "<img src='./afn1.png'></img>"
   ]
  },
  {
   "cell_type": "code",
   "execution_count": null,
   "metadata": {},
   "outputs": [],
   "source": []
  }
 ],
 "metadata": {
  "kernelspec": {
   "display_name": "Python 3",
   "language": "python",
   "name": "python3"
  },
  "language_info": {
   "codemirror_mode": {
    "name": "ipython",
    "version": 3
   },
   "file_extension": ".py",
   "mimetype": "text/x-python",
   "name": "python",
   "nbconvert_exporter": "python",
   "pygments_lexer": "ipython3",
   "version": "3.6.5"
  }
 },
 "nbformat": 4,
 "nbformat_minor": 4
}
